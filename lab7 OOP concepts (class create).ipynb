{
 "cells": [
  {
   "cell_type": "code",
   "execution_count": null,
   "id": "020110c9",
   "metadata": {},
   "outputs": [],
   "source": [
    "#NON-Parametrize\n",
    "\n",
    "class Employee:  \n",
    "    E_name ='xyz'\n",
    "    E_age=30\n",
    "    E_id=234556\n",
    "    def __init__(self):\n",
    "        print(self.E_name,self.E_id,self.E_age)  #initialize by init method\n",
    "    def working(self):                           \n",
    "        print(\"Employeee working as a teacher\")\n",
    "employee1=Employee()\n",
    "employee1.working()"
   ]
  },
  {
   "cell_type": "code",
   "execution_count": null,
   "id": "322d249d",
   "metadata": {},
   "outputs": [],
   "source": [
    "class Employee:  \n",
    "    E_name ='xyz'\n",
    "    E_age=30\n",
    "    E_id=234556\n",
    "   \n",
    "    def __init__(self):\n",
    "        print(self.E_name,self.E_id,self.E_age)\n",
    "    \n",
    "employee1=Employee()\n"
   ]
  },
  {
   "cell_type": "code",
   "execution_count": null,
   "id": "bdac1e4c",
   "metadata": {},
   "outputs": [],
   "source": [
    "class Student1:  \n",
    "    s_name ='Tamanna'\n",
    "    s_age=21\n",
    "    s_id=221\n",
    "    def __init__(self):\n",
    "        print(\"Student1 Demo informations:\")\n",
    "        print(\"Name :\", self.s_name, \"Id :\", self.s_id, \"age :\", self.s_age)  #initialize by init method\n",
    "    def Info1(self):\n",
    "        \n",
    "        self.s_name=input(\"Enter Name:\")\n",
    "        self.s_age=input(\"Enter Age:\")\n",
    "        self.s_id=input(\"Enter Id:\")\n",
    "        \n",
    "        print(\"New Student1 updated informations:\")\n",
    "        print(\"Name :\", self.s_name, \"Id :\", self.s_id, \"age :\", self.s_age)\n",
    "        \n",
    "class Student2:  \n",
    "    x_name='Tanshin'\n",
    "    x_age=20\n",
    "    x_id=222\n",
    "   \n",
    "    def __init__(self):\n",
    "        print(\"Name :\", self.x_name, \"Id :\", self.x_id, \"age :\", self.x_age)\n",
    "    def Info2(self): \n",
    "        self.x_name=input(\"Enter Name:\")\n",
    "        self.x_age=input(\"Enter Age:\")\n",
    "        self.x_id=input(\"Enter Id:\")\n",
    "        print(\"New Student2 updated informations:\")\n",
    "        print(\"Name :\", self.x_name, \"Id :\", self.x_id, \"age :\", self.x_age)\n",
    "        \n",
    "Student=Student1()   # object create\n",
    "Student.Info1()\n",
    "Student.Info2()\n",
    "Student=Student2()\n",
    "Student.Info2()\n",
    "    \n"
   ]
  },
  {
   "cell_type": "code",
   "execution_count": null,
   "id": "4f1a0c0a",
   "metadata": {},
   "outputs": [],
   "source": [
    "class Student2:  \n",
    "    x_name='Tanshin'\n",
    "    x_age=20\n",
    "    x_id=222\n",
    "   \n",
    "    def __init__(self):\n",
    "        print(\"Name :\", self.x_name, \"Id :\", self.x_id, \"age :\", self.x_age)\n",
    "    def Info2(self): \n",
    "        self.x_name=input(\"Enter Name:\")\n",
    "        self.x_age=input(\"Enter Age:\")\n",
    "        self.x_id=input(\"Enter Id:\")\n",
    "        print(\"New Student2 updated informations:\")\n",
    "        print(\"Name :\", self.x_name, \"Id :\", self.x_id, \"age :\", self.x_age)\n",
    "\n",
    "st=Student2()\n",
    "st.Info2()\n",
    "    "
   ]
  },
  {
   "cell_type": "code",
   "execution_count": null,
   "id": "147a0373",
   "metadata": {},
   "outputs": [],
   "source": [
    "class Student1:  \n",
    "    \n",
    "    def __init__(self):\n",
    "        s_name ='Tamanna'\n",
    "        s_age=21\n",
    "        s_id=221\n",
    "        print(\"Student1 Demo informations:\")\n",
    "        print(\"Name :\", self.s_name, \"Id :\", self.s_id, \"age :\", self.s_age)  #initialize by init method\n",
    "    def Info1(self): \n",
    "        \n",
    "        \n",
    "        print(\"Student1 updated informations:\")\n",
    "        print(\"Name :\", self.s_name, \"Id :\", self.s_id, \"age :\", self.s_age)\n",
    "        \n",
    "        self.s_name=input(\"Enter Name:\")\n",
    "        self.s_age=input(\"Enter Age:\")\n",
    "        self.s_id=input(\"Enter Id:\")\n",
    "        \n",
    "        print(\"New Student1 updated informations:\")\n",
    "        print(\"Name :\", self.s_name, \"Id :\", self.s_id, \"age :\", self.s_age)\n",
    "Student=Student1()\n",
    "Student.Info1()        "
   ]
  },
  {
   "cell_type": "code",
   "execution_count": 17,
   "id": "265a8ced",
   "metadata": {},
   "outputs": [
    {
     "ename": "SyntaxError",
     "evalue": "'(' was never closed (2673682386.py, line 15)",
     "output_type": "error",
     "traceback": [
      "\u001b[0;36m  Cell \u001b[0;32mIn[17], line 15\u001b[0;36m\u001b[0m\n\u001b[0;31m    st=Student2(input(\"Enter Name:\"),\u001b[0m\n\u001b[0m               ^\u001b[0m\n\u001b[0;31mSyntaxError\u001b[0m\u001b[0;31m:\u001b[0m '(' was never closed\n"
     ]
    }
   ],
   "source": [
    "class Student2:  \n",
    "    \n",
    "   \n",
    "    def __init__(self, x_name,x_id,x_age):\n",
    "        x_name='Tanshin'\n",
    "        x_age=20\n",
    "        x_id=222\n",
    "        print(\"Name :\", self.x_name, \"Id :\", self.x_id, \"age :\", self.x_age)\n",
    "    \n",
    "    def Info2(self): \n",
    "       \n",
    "        print(\"New Student2 updated informations:\")\n",
    "        print(\"Name :\", self.x_name, \"Id :\", self.x_id, \"age :\", self.x_age)\n",
    "\n",
    "st=Student2(input(\"Enter Name:\"),\n",
    "        input(\"Enter id:\"),\n",
    "        input(\"Enter age:\")\n",
    "st.Info2()"
   ]
  },
  {
   "cell_type": "code",
   "execution_count": null,
   "id": "eeafa071",
   "metadata": {},
   "outputs": [],
   "source": [
    "# Parametrize\n",
    "\n",
    "class Employee:\n",
    "    def __init__(self,E_name,E_age,E_id):\n",
    "        self.E_name=E_name\n",
    "        self.E_age=E_age\n",
    "        self.E_id=E_id\n",
    "    def details(self):\n",
    "        print(self.E_name,self.E_id,self.E_age)\n",
    "employee1=Employee(\"xyz\",20,221)\n",
    "employee1.details()"
   ]
  },
  {
   "cell_type": "code",
   "execution_count": 15,
   "id": "30845943",
   "metadata": {},
   "outputs": [
    {
     "name": "stdout",
     "output_type": "stream",
     "text": [
      "enter the\n"
     ]
    },
    {
     "ename": "TypeError",
     "evalue": "Employee.__init__() takes 1 positional argument but 4 were given",
     "output_type": "error",
     "traceback": [
      "\u001b[0;31m---------------------------------------------------------------------------\u001b[0m",
      "\u001b[0;31mTypeError\u001b[0m                                 Traceback (most recent call last)",
      "Cell \u001b[0;32mIn[15], line 13\u001b[0m\n\u001b[1;32m     11\u001b[0m \u001b[38;5;66;03m#employee1=Employee(\"xyz\",20,221)\u001b[39;00m\n\u001b[1;32m     12\u001b[0m employees\u001b[38;5;241m=\u001b[39mEmployee()\n\u001b[0;32m---> 13\u001b[0m employees1\u001b[38;5;241m=\u001b[39mEmployee(\u001b[38;5;124m\"\u001b[39m\u001b[38;5;124mxyz\u001b[39m\u001b[38;5;124m\"\u001b[39m,\u001b[38;5;241m30\u001b[39m,\u001b[38;5;241m25234\u001b[39m)\n\u001b[1;32m     15\u001b[0m employees1\u001b[38;5;241m.\u001b[39mdetails()\n",
      "\u001b[0;31mTypeError\u001b[0m: Employee.__init__() takes 1 positional argument but 4 were given"
     ]
    }
   ],
   "source": [
    "class Employee:\n",
    "    def __init__(self,E_name,E_age,E_id):\n",
    "        self.E_name=E_name\n",
    "        self.E_age=E_age\n",
    "        self.E_id=E_id\n",
    "    def details(self):\n",
    "        print(self.E_name,self.E_id,self.E_age)\n",
    "    def __init__(self):\n",
    "        print(\"enter the\")\n",
    "       \n",
    "#employee1=Employee(\"xyz\",20,221)\n",
    "employees=Employee()\n",
    "employees1=Employee(\"xyz\",30,25234)\n",
    "\n",
    "employees1.details()\n",
    "    "
   ]
  },
  {
   "cell_type": "code",
   "execution_count": 14,
   "id": "e5c6fefb",
   "metadata": {},
   "outputs": [
    {
     "name": "stdout",
     "output_type": "stream",
     "text": [
      "enter the value2\n"
     ]
    }
   ],
   "source": [
    "class Employee:\n",
    "    e_name=\"xyz\"\n",
    "    def __init__(self):\n",
    "        print(e_name)\n",
    "        \n",
    "    def details(self):\n",
    "        print(self.E_name,self.E_id,self.E_age)\n",
    "    def __init__(self):\n",
    "        print(\"enter the value\")   # last er ta call korbe(Method overloading)\n",
    "    def __init__(self):\n",
    "        print(\"enter the value2\")\n",
    "       \n",
    "#employee1=Employee(\"xyz\",20,221)\n",
    "employees=Employee()\n",
    "#employee1.details()\n",
    "    "
   ]
  },
  {
   "cell_type": "code",
   "execution_count": 16,
   "id": "1aa9b1f7",
   "metadata": {},
   "outputs": [
    {
     "name": "stdout",
     "output_type": "stream",
     "text": [
      "Please provide all parameters.\n",
      "Details are not available.\n",
      "xyz 25234 30\n"
     ]
    }
   ],
   "source": [
    "class Employee:\n",
    "    def __init__(self, E_name=None, E_age=None, E_id=None):\n",
    "        if E_name is not None and E_age is not None and E_id is not None:\n",
    "            self.E_name = E_name\n",
    "            self.E_age = E_age\n",
    "            self.E_id = E_id\n",
    "        else:\n",
    "            print(\"Please provide all parameters.\")\n",
    "\n",
    "    def details(self):\n",
    "        if hasattr(self, 'E_name') and hasattr(self, 'E_age') and hasattr(self, 'E_id'):\n",
    "            print(self.E_name, self.E_id, self.E_age)\n",
    "        else:\n",
    "            print(\"Details are not available.\")\n",
    "\n",
    "# Example usage:\n",
    "# employee1 = Employee(\"xyz\", 20, 221)  # Uncomment if you want to create an instance with parameters\n",
    "# employee1.details()\n",
    "\n",
    "employees = Employee()  # Creating an instance without parameters\n",
    "employees.details()  # Will print \"Please provide all parameters.\"\n",
    "\n",
    "employees1 = Employee(\"xyz\", 30, 25234)  # Creating an instance with parameters\n",
    "employees1.details()  # Will print the details if parameters are provided\n"
   ]
  },
  {
   "cell_type": "markdown",
   "id": "a886f429",
   "metadata": {},
   "source": [
    "Python does not support method overloading in the way some other programming languages do. When you define multiple methods with the same name in a class, only the last one defined will be used, and the earlier ones will be overridden. However, you can achieve similar functionality by providing default values to parameters. Here's how you can modify your code:"
   ]
  }
 ],
 "metadata": {
  "kernelspec": {
   "display_name": "Python 3 (ipykernel)",
   "language": "python",
   "name": "python3"
  },
  "language_info": {
   "codemirror_mode": {
    "name": "ipython",
    "version": 3
   },
   "file_extension": ".py",
   "mimetype": "text/x-python",
   "name": "python",
   "nbconvert_exporter": "python",
   "pygments_lexer": "ipython3",
   "version": "3.11.5"
  }
 },
 "nbformat": 4,
 "nbformat_minor": 5
}
