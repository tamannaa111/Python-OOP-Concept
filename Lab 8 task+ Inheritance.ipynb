{
 "cells": [
  {
   "cell_type": "markdown",
   "id": "640afda6",
   "metadata": {},
   "source": [
    "\n",
    "Create a Car class with manufacturer,model,year, color,fuel type attributes as well as it has functionality as start,stop, carDetails.Car class also has its own method to initialize its class variables."
   ]
  },
  {
   "cell_type": "code",
   "execution_count": 4,
   "id": "c5cf227e",
   "metadata": {},
   "outputs": [
    {
     "name": "stdout",
     "output_type": "stream",
     "text": [
      "Manufacturer: Toyta\n",
      "Model: 1\n",
      "Year: 2022\n",
      "Color: blue\n",
      "Fuel Type: fuel\n",
      "Car has Stopped\n",
      "Starting the car\n",
      "Manufacturer: Toyta\n",
      "Model: 1\n",
      "Year: 2022\n",
      "Color: blue\n",
      "Fuel Type: fuel\n",
      "Car is Running\n",
      "Stopping the car\n",
      "Manufacturer: Toyta\n",
      "Model: 1\n",
      "Year: 2022\n",
      "Color: blue\n",
      "Fuel Type: fuel\n",
      "Car has Stopped\n"
     ]
    }
   ],
   "source": [
    "class Car:\n",
    "    def __init__(self, manufacturer, model, year, color, fuel):\n",
    "        self.manufacturer = 'Toyta'\n",
    "        self.model = 1\n",
    "        self.year = 2022\n",
    "        self.color = \"blue\"\n",
    "        self.fuel_type = \"fuel\"\n",
    "        self.is_running = False\n",
    "\n",
    "    def start(self):\n",
    "        if not self.is_running:\n",
    "            print(\"Starting the car\")\n",
    "            self.is_running = True\n",
    "        else:\n",
    "            print(\"The car is already running.\")\n",
    "\n",
    "    def stop(self):\n",
    "        if self.is_running:\n",
    "            print(\"Stopping the car\")\n",
    "            self.is_running = False\n",
    "        else:\n",
    "            print(\"The car is already stopped.\")\n",
    "\n",
    "    def car_Info(self):\n",
    "        print(\"Manufacturer:\", self.manufacturer)\n",
    "        print(\"Model:\", self.model)\n",
    "        print(\"Year:\", self.year)\n",
    "        print(\"Color:\", self.color)\n",
    "        print(\"Fuel Type:\", self.fuel_type)\n",
    "        if self.is_running:\n",
    "            print(\"Car is Running\")\n",
    "        else:\n",
    "            print(\"Car has Stopped\")\n",
    "\n",
    "\n",
    "\n",
    "MyCar = Car(\"Tota\", \"BMW\", 2024, \"PInk\", \"gas\")\n",
    "MyCar.car_Info() \n",
    "MyCar.start()       \n",
    "MyCar.car_Info()  \n",
    "MyCar.stop()        \n",
    "MyCar.car_Info() \n"
   ]
  },
  {
   "cell_type": "code",
   "execution_count": 3,
   "id": "18ab7b55",
   "metadata": {},
   "outputs": [
    {
     "name": "stdout",
     "output_type": "stream",
     "text": [
      "Manufacturer: Tata, Model: BMW, Year: 2024, Color: Blue, Fuel Type: Petrol\n",
      "The BMW is starting.\n",
      "The BMW is stopping.\n"
     ]
    }
   ],
   "source": [
    "class Car:\n",
    "    def __init__(self, manufacturer, model, year, color, fuel_type):\n",
    "        self.manufacturer = manufacturer\n",
    "        self.model = model\n",
    "        self.year = year\n",
    "        self.color = color\n",
    "        self.fuel_type = fuel_type\n",
    "\n",
    "    def start(self):\n",
    "        print(f\"The {self.model} is starting.\")\n",
    "\n",
    "    def stop(self):\n",
    "        print(f\"The {self.model} is stopping.\")\n",
    "\n",
    "    def carDetails(self):\n",
    "        return f\"Manufacturer: {self.manufacturer}, Model: {self.model}, Year: {self.year}, Color: {self.color}, Fuel Type: {self.fuel_type}\"\n",
    "   \n",
    "        \n",
    "\n",
    "car = Car(\"Tata\", \"BMW\", 2024, \"Blue\", \"Petrol\")\n",
    "print(car.carDetails())\n",
    "car.start()\n",
    "car.stop()\n"
   ]
  },
  {
   "cell_type": "code",
   "execution_count": 2,
   "id": "3221ebe7",
   "metadata": {},
   "outputs": [
    {
     "name": "stdout",
     "output_type": "stream",
     "text": [
      "pet meat persian\n",
      "persian can do sleeping\n",
      "colour of cat is  black\n",
      "Small 2 days deshi\n"
     ]
    }
   ],
   "source": [
    "#Inheritance\n",
    "\n",
    "class Animal:\n",
    "    def __init__(self,a_type,a_food,a_name):\n",
    "        self.a_type= a_type\n",
    "        self.a_food= a_food\n",
    "        self.a_name= a_name\n",
    "    def animalInfo(self):\n",
    "        print(self.a_type,self.a_food,self.a_name)\n",
    "    def activities(self,activities):\n",
    "        self.activities=activities\n",
    "        print(self.a_name, \"can do\", self.activities)\n",
    "class cat(Animal):\n",
    "    def showColour(self,colour):\n",
    "        self.colour=colour\n",
    "        print(\"colour of cat is \", self.colour)\n",
    "class kitty(cat):\n",
    "    def kittyDetails(self,size,age,origin):\n",
    "        self.size=size\n",
    "        self.age=age\n",
    "        self.origin=origin\n",
    "        print(self.size,self.age,self.origin)\n",
    "k1=kitty('pet','meat','persian')\n",
    "k1.animalInfo()\n",
    "k1.activities('sleeping')\n",
    "k1.showColour(\"black\")\n",
    "k1.kittyDetails(\"Small\",\"2 days\", \"deshi\")\n",
    "\n",
    "        "
   ]
  },
  {
   "cell_type": "code",
   "execution_count": 13,
   "id": "6cbd2fe1",
   "metadata": {},
   "outputs": [
    {
     "name": "stdout",
     "output_type": "stream",
     "text": [
      "computer APPLE PRICE= 100K\n",
      "APPLE has 256 GB storage\n",
      "Macbook Air 5th generation\n",
      "CONFIGURATION IS= core i5  , SIZE= 13.6\n"
     ]
    }
   ],
   "source": [
    "class Devices:\n",
    "    def __init__(self,categories,brand,price):\n",
    "        self.categories=categories\n",
    "        self.brand=brand\n",
    "        self.price=price\n",
    "    def deviceInfo(self):\n",
    "        print(self.categories,self.brand,'PRICE=',self.price)\n",
    "    def storage(self,storage):\n",
    "        self.storage=storage\n",
    "        print(self.brand , 'has',self.storage,'storage')\n",
    "class computer(Devices):\n",
    "    \n",
    "    def computerInfo(self,name,generation):\n",
    "        self.name=name\n",
    "        self.generation=generation\n",
    "        print(self.name,self.generation,'generation')\n",
    "class laptop(computer):\n",
    "    def laptopInfo(self,configuration,size):\n",
    "        self.configuration=configuration\n",
    "        self.size=size\n",
    "        print(\"CONFIGURATION IS=\", self.configuration,\" , SIZE=\",self.size)\n",
    "    \n",
    "D=laptop('computer','APPLE',\"100K\")\n",
    "D.deviceInfo()\n",
    "D.storage('256 GB')\n",
    "D.computerInfo('Macbook Air','5th')\n",
    "\n",
    "D.laptopInfo('core i5',13.6)\n",
    "\n",
    "        "
   ]
  },
  {
   "cell_type": "code",
   "execution_count": null,
   "id": "e006f85f",
   "metadata": {},
   "outputs": [],
   "source": []
  }
 ],
 "metadata": {
  "kernelspec": {
   "display_name": "Python 3 (ipykernel)",
   "language": "python",
   "name": "python3"
  },
  "language_info": {
   "codemirror_mode": {
    "name": "ipython",
    "version": 3
   },
   "file_extension": ".py",
   "mimetype": "text/x-python",
   "name": "python",
   "nbconvert_exporter": "python",
   "pygments_lexer": "ipython3",
   "version": "3.11.5"
  }
 },
 "nbformat": 4,
 "nbformat_minor": 5
}
