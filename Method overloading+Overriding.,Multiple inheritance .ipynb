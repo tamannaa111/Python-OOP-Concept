{
 "cells": [
  {
   "cell_type": "markdown",
   "id": "5825ab86",
   "metadata": {},
   "source": [
    "# Method overloading\n",
    "Python does not support method overloading in the way some other programming languages do. When you define multiple methods with the same name in a class, only the last one defined will be used, and the earlier ones will be overridden. However, you can achieve similar functionality by providing default values to parameters. "
   ]
  },
  {
   "cell_type": "code",
   "execution_count": 9,
   "id": "f4e8610a",
   "metadata": {},
   "outputs": [
    {
     "name": "stdout",
     "output_type": "stream",
     "text": [
      "child class init method\n"
     ]
    }
   ],
   "source": [
    "class Base:\n",
    "    def __init__(self):\n",
    "        print(\"Base class init method\")\n",
    "\n",
    "    def __init__(self):\n",
    "        print(\"child class init method\")\n",
    "c1=Base()"
   ]
  },
  {
   "cell_type": "markdown",
   "id": "e98e8eae",
   "metadata": {},
   "source": [
    "\n",
    "# Method overrididing\n",
    "\n",
    "     "
   ]
  },
  {
   "cell_type": "code",
   "execution_count": 8,
   "id": "c4473154",
   "metadata": {},
   "outputs": [
    {
     "name": "stdout",
     "output_type": "stream",
     "text": [
      "child class init method\n"
     ]
    }
   ],
   "source": [
    "class Base:\n",
    "    def __init__(self):\n",
    "        print(\"Base class init method\")\n",
    "class child(Base):\n",
    "    def __init__(self):\n",
    "        print(\"child class init method\")\n",
    "c1=child()   "
   ]
  },
  {
   "cell_type": "code",
   "execution_count": 6,
   "id": "d026d2a7",
   "metadata": {},
   "outputs": [
    {
     "name": "stdout",
     "output_type": "stream",
     "text": [
      "Base class init method\n",
      "child class init method\n"
     ]
    }
   ],
   "source": [
    "#Method overriading\n",
    "\n",
    "class Base:\n",
    "    def __init__(self):\n",
    "        print(\"Base class init method\")\n",
    "class child(Base):\n",
    "    def __init__(self):\n",
    "        Base.__init__(self)\n",
    "        print(\"child class init method\")\n",
    "c1=child() "
   ]
  },
  {
   "cell_type": "code",
   "execution_count": 4,
   "id": "fc057183",
   "metadata": {},
   "outputs": [
    {
     "name": "stdout",
     "output_type": "stream",
     "text": [
      "Base class init method\n",
      "15\n",
      "50\n",
      "2.0\n"
     ]
    }
   ],
   "source": [
    "#Method overriding with super keyword\n",
    "\n",
    "class person:\n",
    "    def __init__(self):\n",
    "        print(\"Base class init method\")\n",
    "        self.a=5\n",
    "        self.b=10\n",
    "        print(self.a+self.b)\n",
    "    def calculate(self):\n",
    "        print(self.a*self.b)\n",
    "class employee(person):\n",
    "    def calculate(self):\n",
    "        super().calculate()\n",
    "        \n",
    "        self.c=self.b/ self.a\n",
    "        print( self.c)\n",
    "        \n",
    "c1=employee() \n",
    "c1.calculate()"
   ]
  },
  {
   "cell_type": "code",
   "execution_count": 13,
   "id": "9ef0cbfc",
   "metadata": {},
   "outputs": [
    {
     "name": "stdout",
     "output_type": "stream",
     "text": [
      "5 10\n",
      "2.0\n"
     ]
    }
   ],
   "source": [
    "#Method overriding with super keyword\n",
    "\n",
    "class person:\n",
    "    def __init__(self):\n",
    "        print(\"Base class init method\")\n",
    "    def __init__(self):\n",
    "        \n",
    "        self.a=5\n",
    "        self.b=10\n",
    "        print(self.a,self.b)\n",
    "    def calculate(self):\n",
    "        print(self.a*self.b)\n",
    "class employee(person):\n",
    "    def calculate(self):\n",
    "        self.c=self.b/ self.a\n",
    "        print( self.c)\n",
    "        \n",
    "c1=employee() \n",
    "c1.calculate()"
   ]
  },
  {
   "cell_type": "code",
   "execution_count": 24,
   "id": "13aa7347",
   "metadata": {},
   "outputs": [
    {
     "name": "stdout",
     "output_type": "stream",
     "text": [
      "Base class init method\n",
      "Derived class init method\n",
      "Bark\n",
      "I am a Dog and I bark!\n",
      "Base class init method\n",
      "Derived class init method\n",
      "Meow\n",
      "I am a Cat and I meow!\n"
     ]
    }
   ],
   "source": [
    "#Multiple Inheritance\n",
    "\n",
    "class Animal:\n",
    "    def __init__(self):\n",
    "        self.name = \" Animal\"\n",
    "        self.sound = \"AnimalSound\"\n",
    "        print(\"Base class init method\")\n",
    "   \n",
    "\n",
    "    def make_sound(self):\n",
    "        print(self.sound)\n",
    "\n",
    "\n",
    "class Dog(Animal):\n",
    "    def __init__(self):\n",
    "        super().__init__()  \n",
    "        print(\"Derived class init method\")\n",
    "        self.name = \"Dog\"\n",
    "        self.sound = \"Bark\"\n",
    "\n",
    "    def make_sound(self):\n",
    "        super().make_sound() \n",
    "        print(\"I am a\", self.name, \"and I bark!\")\n",
    "\n",
    "\n",
    "class Cat(Animal):\n",
    "    def __init__(self):\n",
    "        super().__init__()  \n",
    "        print(\"Derived class init method\")\n",
    "        self.name = \"Cat\"\n",
    "        self.sound = \"Meow\"\n",
    "\n",
    "    def make_sound(self):\n",
    "        super().make_sound() \n",
    "        print(\"I am a\", self.name, \"and I meow!\")\n",
    "\n",
    "\n",
    "\n",
    "dog = Dog()\n",
    "dog.make_sound()\n",
    "\n",
    "cat = Cat()\n",
    "cat.make_sound()\n"
   ]
  },
  {
   "cell_type": "code",
   "execution_count": 25,
   "id": "d57c36f9",
   "metadata": {},
   "outputs": [
    {
     "name": "stdout",
     "output_type": "stream",
     "text": [
      "Inside class A\n",
      "5 10\n",
      "It is class D\n",
      "50\n",
      "Inside class B\n"
     ]
    }
   ],
   "source": [
    "class A:\n",
    "    def __init__(self):\n",
    "        print(\"Inside class A\")\n",
    "    def info(self):\n",
    "        self.a=5\n",
    "        self.b=10\n",
    "        print(self.a, self.b)\n",
    "    def calculate1(self):\n",
    "        print(self.a*self.b)\n",
    "class B:\n",
    "    def details(self):\n",
    "        print(\"Inside class B\")\n",
    "class C:\n",
    "    def details(self):\n",
    "        print(\"Inside class C\")\n",
    "class D(A,B,C):\n",
    "    def info(self):\n",
    "        super().info()\n",
    "        print(\"It is class D\")\n",
    "d1=D()#init method of class A\n",
    "d1.info()#info method of D\n",
    "d1.calculate1()# caluculate method of Class A\n",
    "d1.details()#details method of B"
   ]
  },
  {
   "cell_type": "code",
   "execution_count": null,
   "id": "47c9281b",
   "metadata": {},
   "outputs": [],
   "source": []
  }
 ],
 "metadata": {
  "kernelspec": {
   "display_name": "Python 3 (ipykernel)",
   "language": "python",
   "name": "python3"
  },
  "language_info": {
   "codemirror_mode": {
    "name": "ipython",
    "version": 3
   },
   "file_extension": ".py",
   "mimetype": "text/x-python",
   "name": "python",
   "nbconvert_exporter": "python",
   "pygments_lexer": "ipython3",
   "version": "3.11.5"
  }
 },
 "nbformat": 4,
 "nbformat_minor": 5
}
